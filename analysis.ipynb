{
 "cells": [
  {
   "cell_type": "code",
   "execution_count": 1,
   "metadata": {},
   "outputs": [],
   "source": [
    "import numpy as np\n",
    "import pandas as pd\n",
    "import geopandas as gpd\n",
    "import warnings\n",
    "warnings.filterwarnings(\"ignore\")"
   ]
  },
  {
   "cell_type": "code",
   "execution_count": 2,
   "metadata": {},
   "outputs": [
    {
     "name": "stdout",
     "output_type": "stream",
     "text": [
      "<class 'pandas.core.frame.DataFrame'>\n",
      "RangeIndex: 169443 entries, 0 to 169442\n",
      "Data columns (total 33 columns):\n",
      " #   Column                           Non-Null Count   Dtype          \n",
      "---  ------                           --------------   -----          \n",
      " 0   Station Name                     169443 non-null  object         \n",
      " 1   MAC Address                      169443 non-null  object         \n",
      " 2   Org Name                         169443 non-null  object         \n",
      " 3   Start Date                       169443 non-null  datetime64[ns] \n",
      " 4   Start Time Zone                  169443 non-null  object         \n",
      " 5   End Date                         169405 non-null  datetime64[ns] \n",
      " 6   End Time Zone                    169443 non-null  object         \n",
      " 7   Transaction Date (Pacific Time)  169405 non-null  datetime64[ns] \n",
      " 8   Total Duration (hh:mm:ss)        169443 non-null  timedelta64[ns]\n",
      " 9   Charging Time (hh:mm:ss)         169443 non-null  timedelta64[ns]\n",
      " 10  Energy (kWh)                     169443 non-null  float64        \n",
      " 11  GHG Savings (kg)                 169443 non-null  float64        \n",
      " 12  Gasoline Savings (gallons)       169443 non-null  float64        \n",
      " 13  Port Type                        169443 non-null  object         \n",
      " 14  Port Number                      169443 non-null  int64          \n",
      " 15  Plug Type                        169443 non-null  object         \n",
      " 16  EVSE ID                          169443 non-null  float64        \n",
      " 17  Address 1                        169443 non-null  object         \n",
      " 18  City                             169443 non-null  object         \n",
      " 19  State/Province                   169443 non-null  object         \n",
      " 20  Postal Code                      169443 non-null  int64          \n",
      " 21  Country                          169443 non-null  object         \n",
      " 22  Latitude                         169443 non-null  float64        \n",
      " 23  Longitude                        169443 non-null  float64        \n",
      " 24  Currency                         169443 non-null  object         \n",
      " 25  Fee                              169443 non-null  float64        \n",
      " 26  Ended By                         169443 non-null  object         \n",
      " 27  Plug In Event Id                 169443 non-null  int64          \n",
      " 28  Driver Postal Code               169443 non-null  float64        \n",
      " 29  User ID                          169443 non-null  float64        \n",
      " 30  County                           169443 non-null  object         \n",
      " 31  System S/N                       169443 non-null  float64        \n",
      " 32  Model Number                     169443 non-null  object         \n",
      "dtypes: datetime64[ns](3), float64(10), int64(3), object(15), timedelta64[ns](2)\n",
      "memory usage: 42.7+ MB\n"
     ]
    }
   ],
   "source": [
    "data_cleaned = pd.read_csv('data/data_cleaned.csv')\n",
    "data_cleaned['Start Date'] = pd.to_datetime(data_cleaned['Start Date'], errors='coerce')\n",
    "data_cleaned['End Date'] = pd.to_datetime(data_cleaned['End Date'], errors='coerce')\n",
    "data_cleaned['Transaction Date (Pacific Time)'] = pd.to_datetime(data_cleaned['Transaction Date (Pacific Time)'], errors='coerce')\n",
    "data_cleaned['Total Duration (hh:mm:ss)'] = pd.to_timedelta(data_cleaned['Total Duration (hh:mm:ss)'])\n",
    "data_cleaned['Charging Time (hh:mm:ss)'] = pd.to_timedelta(data_cleaned['Charging Time (hh:mm:ss)'])\n",
    "data_cleaned.info()"
   ]
  },
  {
   "cell_type": "code",
   "execution_count": null,
   "metadata": {},
   "outputs": [],
   "source": []
  }
 ],
 "metadata": {
  "kernelspec": {
   "display_name": "Python 3",
   "language": "python",
   "name": "python3"
  },
  "language_info": {
   "codemirror_mode": {
    "name": "ipython",
    "version": 3
   },
   "file_extension": ".py",
   "mimetype": "text/x-python",
   "name": "python",
   "nbconvert_exporter": "python",
   "pygments_lexer": "ipython3",
   "version": "3.11.5"
  }
 },
 "nbformat": 4,
 "nbformat_minor": 2
}
